{
 "cells": [
  {
   "cell_type": "code",
   "execution_count": 1,
   "id": "ffa9ed6e-06bc-4e6f-b7f4-340465e553b8",
   "metadata": {},
   "outputs": [],
   "source": [
    "import numpy as np"
   ]
  },
  {
   "cell_type": "markdown",
   "id": "4db572ee-eccb-4e01-892a-a21bc5a1ead7",
   "metadata": {},
   "source": [
    "## 1. Calculating Total Revenue"
   ]
  },
  {
   "cell_type": "code",
   "execution_count": 3,
   "id": "e2668311-b8a4-46b4-976b-7dba7a21118b",
   "metadata": {},
   "outputs": [
    {
     "data": {
      "text/plain": [
       "array([19.99, 29.99, 14.99,  9.99, 24.99])"
      ]
     },
     "execution_count": 3,
     "metadata": {},
     "output_type": "execute_result"
    }
   ],
   "source": [
    "prices = np.array([19.99,29.99,14.99,9.99,24.99])\n",
    "prices"
   ]
  },
  {
   "cell_type": "code",
   "execution_count": 4,
   "id": "7e8fe761-1746-49a9-9f50-e41b13ed9160",
   "metadata": {},
   "outputs": [
    {
     "data": {
      "text/plain": [
       "array([10,  5,  8, 12,  3])"
      ]
     },
     "execution_count": 4,
     "metadata": {},
     "output_type": "execute_result"
    }
   ],
   "source": [
    "quantities=np.array([10,5,8,12,3])\n",
    "quantities"
   ]
  },
  {
   "cell_type": "code",
   "execution_count": 5,
   "id": "9fbe1357-9fb0-452a-a319-79c86b0be5f7",
   "metadata": {},
   "outputs": [
    {
     "data": {
      "text/plain": [
       "array([199.9 , 149.95, 119.92, 119.88,  74.97])"
      ]
     },
     "execution_count": 5,
     "metadata": {},
     "output_type": "execute_result"
    }
   ],
   "source": [
    "revenue_per_product = prices*quantities\n",
    "revenue_per_product"
   ]
  },
  {
   "cell_type": "code",
   "execution_count": 6,
   "id": "81a78ee5-2053-4af0-9d97-9016eb35e52f",
   "metadata": {},
   "outputs": [
    {
     "data": {
      "text/plain": [
       "np.float64(664.62)"
      ]
     },
     "execution_count": 6,
     "metadata": {},
     "output_type": "execute_result"
    }
   ],
   "source": [
    "total_revenue = np.sum(revenue_per_product)\n",
    "total_revenue"
   ]
  },
  {
   "cell_type": "markdown",
   "id": "24e24d27-b5f0-49aa-b9a4-502e5b8958b8",
   "metadata": {},
   "source": [
    "## 2. Analyzing Blog Post Stats"
   ]
  },
  {
   "cell_type": "code",
   "execution_count": 8,
   "id": "4f6be369-0b8a-49a0-922a-013f9c8f9953",
   "metadata": {},
   "outputs": [
    {
     "data": {
      "text/plain": [
       "array([1000,  500,  800, 1200,  300,  600])"
      ]
     },
     "execution_count": 8,
     "metadata": {},
     "output_type": "execute_result"
    }
   ],
   "source": [
    "views = np.array([1000,500,800,1200,300,600])\n",
    "views"
   ]
  },
  {
   "cell_type": "code",
   "execution_count": 9,
   "id": "49d994b9-39aa-43d8-bf1c-de5471c12cb5",
   "metadata": {},
   "outputs": [
    {
     "data": {
      "text/plain": [
       "np.int64(1200)"
      ]
     },
     "execution_count": 9,
     "metadata": {},
     "output_type": "execute_result"
    }
   ],
   "source": [
    "max_views = np.max(views)\n",
    "max_views"
   ]
  },
  {
   "cell_type": "code",
   "execution_count": 10,
   "id": "4b2e36f3-6df2-4bfb-bb56-ed43193209bc",
   "metadata": {},
   "outputs": [
    {
     "data": {
      "text/plain": [
       "np.int64(300)"
      ]
     },
     "execution_count": 10,
     "metadata": {},
     "output_type": "execute_result"
    }
   ],
   "source": [
    "min_views = np.min(views)\n",
    "min_views"
   ]
  },
  {
   "cell_type": "code",
   "execution_count": 11,
   "id": "204bc9f4-e9bd-45b7-866c-733295042b71",
   "metadata": {},
   "outputs": [
    {
     "data": {
      "text/plain": [
       "np.float64(733.3333333333334)"
      ]
     },
     "execution_count": 11,
     "metadata": {},
     "output_type": "execute_result"
    }
   ],
   "source": [
    "average_views = np.average(views)\n",
    "average_views"
   ]
  },
  {
   "cell_type": "code",
   "execution_count": 12,
   "id": "a614a109-6a5b-4bbd-904b-8078ffa5faaa",
   "metadata": {},
   "outputs": [
    {
     "data": {
      "text/plain": [
       "np.int64(4400)"
      ]
     },
     "execution_count": 12,
     "metadata": {},
     "output_type": "execute_result"
    }
   ],
   "source": [
    "total_views = np.sum(views)\n",
    "total_views"
   ]
  },
  {
   "cell_type": "code",
   "execution_count": null,
   "id": "7c376a62-0234-4d61-afd2-0b3a8ca45e37",
   "metadata": {},
   "outputs": [],
   "source": []
  }
 ],
 "metadata": {
  "kernelspec": {
   "display_name": "Python 3 (ipykernel)",
   "language": "python",
   "name": "python3"
  },
  "language_info": {
   "codemirror_mode": {
    "name": "ipython",
    "version": 3
   },
   "file_extension": ".py",
   "mimetype": "text/x-python",
   "name": "python",
   "nbconvert_exporter": "python",
   "pygments_lexer": "ipython3",
   "version": "3.13.1"
  }
 },
 "nbformat": 4,
 "nbformat_minor": 5
}
