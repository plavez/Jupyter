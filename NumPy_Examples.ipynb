{
 "cells": [
  {
   "cell_type": "code",
   "execution_count": 1,
   "id": "ffa9ed6e-06bc-4e6f-b7f4-340465e553b8",
   "metadata": {},
   "outputs": [],
   "source": [
    "import numpy as np"
   ]
  },
  {
   "cell_type": "markdown",
   "id": "4db572ee-eccb-4e01-892a-a21bc5a1ead7",
   "metadata": {},
   "source": [
    "## 1. Calculating Total Revenue"
   ]
  },
  {
   "cell_type": "code",
   "execution_count": 3,
   "id": "e2668311-b8a4-46b4-976b-7dba7a21118b",
   "metadata": {},
   "outputs": [
    {
     "data": {
      "text/plain": [
       "array([19.99, 29.99, 14.99,  9.99, 24.99])"
      ]
     },
     "execution_count": 3,
     "metadata": {},
     "output_type": "execute_result"
    }
   ],
   "source": [
    "prices = np.array([19.99,29.99,14.99,9.99,24.99])\n",
    "prices"
   ]
  },
  {
   "cell_type": "code",
   "execution_count": 4,
   "id": "7e8fe761-1746-49a9-9f50-e41b13ed9160",
   "metadata": {},
   "outputs": [
    {
     "data": {
      "text/plain": [
       "array([10,  5,  8, 12,  3])"
      ]
     },
     "execution_count": 4,
     "metadata": {},
     "output_type": "execute_result"
    }
   ],
   "source": [
    "quantities=np.array([10,5,8,12,3])\n",
    "quantities"
   ]
  },
  {
   "cell_type": "code",
   "execution_count": 5,
   "id": "9fbe1357-9fb0-452a-a319-79c86b0be5f7",
   "metadata": {},
   "outputs": [
    {
     "data": {
      "text/plain": [
       "array([199.9 , 149.95, 119.92, 119.88,  74.97])"
      ]
     },
     "execution_count": 5,
     "metadata": {},
     "output_type": "execute_result"
    }
   ],
   "source": [
    "revenue_per_product = prices*quantities\n",
    "revenue_per_product"
   ]
  },
  {
   "cell_type": "code",
   "execution_count": 6,
   "id": "81a78ee5-2053-4af0-9d97-9016eb35e52f",
   "metadata": {},
   "outputs": [
    {
     "data": {
      "text/plain": [
       "np.float64(664.62)"
      ]
     },
     "execution_count": 6,
     "metadata": {},
     "output_type": "execute_result"
    }
   ],
   "source": [
    "total_revenue = np.sum(revenue_per_product)\n",
    "total_revenue"
   ]
  },
  {
   "cell_type": "markdown",
   "id": "24e24d27-b5f0-49aa-b9a4-502e5b8958b8",
   "metadata": {},
   "source": [
    "## 2. Analyzing Blog Post Stats"
   ]
  },
  {
   "cell_type": "code",
   "execution_count": 8,
   "id": "4f6be369-0b8a-49a0-922a-013f9c8f9953",
   "metadata": {},
   "outputs": [
    {
     "data": {
      "text/plain": [
       "array([1000,  500,  800, 1200,  300,  600])"
      ]
     },
     "execution_count": 8,
     "metadata": {},
     "output_type": "execute_result"
    }
   ],
   "source": [
    "views = np.array([1000,500,800,1200,300,600])\n",
    "views"
   ]
  },
  {
   "cell_type": "code",
   "execution_count": 9,
   "id": "49d994b9-39aa-43d8-bf1c-de5471c12cb5",
   "metadata": {},
   "outputs": [
    {
     "data": {
      "text/plain": [
       "np.int64(1200)"
      ]
     },
     "execution_count": 9,
     "metadata": {},
     "output_type": "execute_result"
    }
   ],
   "source": [
    "max_views = np.max(views)\n",
    "max_views"
   ]
  },
  {
   "cell_type": "code",
   "execution_count": 10,
   "id": "4b2e36f3-6df2-4bfb-bb56-ed43193209bc",
   "metadata": {},
   "outputs": [
    {
     "data": {
      "text/plain": [
       "np.int64(300)"
      ]
     },
     "execution_count": 10,
     "metadata": {},
     "output_type": "execute_result"
    }
   ],
   "source": [
    "min_views = np.min(views)\n",
    "min_views"
   ]
  },
  {
   "cell_type": "code",
   "execution_count": 11,
   "id": "204bc9f4-e9bd-45b7-866c-733295042b71",
   "metadata": {},
   "outputs": [
    {
     "data": {
      "text/plain": [
       "np.float64(733.3333333333334)"
      ]
     },
     "execution_count": 11,
     "metadata": {},
     "output_type": "execute_result"
    }
   ],
   "source": [
    "average_views = np.average(views)\n",
    "average_views"
   ]
  },
  {
   "cell_type": "code",
   "execution_count": 12,
   "id": "a614a109-6a5b-4bbd-904b-8078ffa5faaa",
   "metadata": {},
   "outputs": [
    {
     "data": {
      "text/plain": [
       "np.int64(4400)"
      ]
     },
     "execution_count": 12,
     "metadata": {},
     "output_type": "execute_result"
    }
   ],
   "source": [
    "total_views = np.sum(views)\n",
    "total_views"
   ]
  },
  {
   "cell_type": "markdown",
   "id": "45f9471a-0f69-4ed5-b6ee-e083274945b8",
   "metadata": {},
   "source": [
    "## 3. Splitting Order into Batches"
   ]
  },
  {
   "cell_type": "code",
   "execution_count": 17,
   "id": "220d9d11-b932-4b00-b570-47817d456b49",
   "metadata": {},
   "outputs": [
    {
     "data": {
      "text/plain": [
       "array([1001, 1002, 1003, 1004, 1005, 1006, 1007, 1008])"
      ]
     },
     "execution_count": 17,
     "metadata": {},
     "output_type": "execute_result"
    }
   ],
   "source": [
    "oder_ids = np.array([1001,1002,1003,1004,1005,1006,1007,1008])\n",
    "oder_ids"
   ]
  },
  {
   "cell_type": "code",
   "execution_count": 18,
   "id": "0f67fd0a-42ca-4976-9627-55ac68c3138f",
   "metadata": {},
   "outputs": [
    {
     "data": {
      "text/plain": [
       "[array([1001, 1002]),\n",
       " array([1003, 1004]),\n",
       " array([1005, 1006]),\n",
       " array([1007, 1008])]"
      ]
     },
     "execution_count": 18,
     "metadata": {},
     "output_type": "execute_result"
    }
   ],
   "source": [
    "batches = np.split(oder_ids, 4)\n",
    "batches"
   ]
  },
  {
   "cell_type": "code",
   "execution_count": 21,
   "id": "a678ab59-4ad0-4ae0-9999-e23d4635181d",
   "metadata": {},
   "outputs": [
    {
     "name": "stdout",
     "output_type": "stream",
     "text": [
      "[1001 1002]\n",
      "[1003 1004]\n",
      "[1005 1006]\n",
      "[1007 1008]\n"
     ]
    }
   ],
   "source": [
    "# Итерация по массиву\n",
    "for batch in batches: \n",
    "    print(batch)"
   ]
  },
  {
   "cell_type": "code",
   "execution_count": 24,
   "id": "2fbe590f-7ea6-4e95-8fa4-b8cbac36b553",
   "metadata": {},
   "outputs": [
    {
     "name": "stdout",
     "output_type": "stream",
     "text": [
      "First element in the batch 1001\n",
      "Second element in the batch 1002\n",
      "First element in the batch 1003\n",
      "Second element in the batch 1004\n",
      "First element in the batch 1005\n",
      "Second element in the batch 1006\n",
      "First element in the batch 1007\n",
      "Second element in the batch 1008\n"
     ]
    }
   ],
   "source": [
    "# Итерация по массиву по индексу\n",
    "for batch in batches: \n",
    "    print(\"First element in the batch\",batch[0])\n",
    "    print(\"Second element in the batch\",batch[1])"
   ]
  },
  {
   "cell_type": "code",
   "execution_count": 32,
   "id": "6e13ad45-b621-499b-8f42-7067c8b2a7e7",
   "metadata": {},
   "outputs": [
    {
     "name": "stdout",
     "output_type": "stream",
     "text": [
      "Batch number 0: \n",
      "First element in the batch:  1001\n",
      "Second element in the batch:  1002\n",
      "\n",
      "Batch number 1: \n",
      "First element in the batch:  1003\n",
      "Second element in the batch:  1004\n",
      "\n",
      "Batch number 2: \n",
      "First element in the batch:  1005\n",
      "Second element in the batch:  1006\n",
      "\n",
      "Batch number 3: \n",
      "First element in the batch:  1007\n",
      "Second element in the batch:  1008\n",
      "\n"
     ]
    }
   ],
   "source": [
    "for i , batch in enumerate(batches): \n",
    "    print(f\"Batch number {i}: \")\n",
    "    print(\"First element in the batch: \",batch[0])\n",
    "    print(\"Second element in the batch: \",batch[1])\n",
    "    print('')"
   ]
  },
  {
   "cell_type": "markdown",
   "id": "2f3319ce-efb3-4198-a688-a3dd943c3a20",
   "metadata": {},
   "source": [
    "## 4. Categorizing Product Ratings"
   ]
  },
  {
   "cell_type": "code",
   "execution_count": 33,
   "id": "3e602177-bf45-4a0a-8d15-5ce3c1621d34",
   "metadata": {},
   "outputs": [
    {
     "data": {
      "text/plain": [
       "array([4.5, 3.2, 2.8, 5. , 4.1, 3.9, 2.5, 4.7])"
      ]
     },
     "execution_count": 33,
     "metadata": {},
     "output_type": "execute_result"
    }
   ],
   "source": [
    "ratings = np.array([4.5,3.2,2.8,5.0,4.1,3.9,2.5,4.7])\n",
    "ratings"
   ]
  },
  {
   "cell_type": "code",
   "execution_count": 34,
   "id": "d9ffca30-93b7-4fd1-9bd3-9c79eb2fb61a",
   "metadata": {},
   "outputs": [
    {
     "data": {
      "text/plain": [
       "array([4.5, 5. , 4.1, 4.7])"
      ]
     },
     "execution_count": 34,
     "metadata": {},
     "output_type": "execute_result"
    }
   ],
   "source": [
    "positive_ratings = ratings[ratings>=4.0]\n",
    "positive_ratings"
   ]
  },
  {
   "cell_type": "code",
   "execution_count": 36,
   "id": "6b54a895-128a-4172-be33-6b8166d8c040",
   "metadata": {},
   "outputs": [
    {
     "data": {
      "text/plain": [
       "array([3.2, 2.8, 3.9, 2.5])"
      ]
     },
     "execution_count": 36,
     "metadata": {},
     "output_type": "execute_result"
    }
   ],
   "source": [
    "negative_ratings = ratings[ratings < 4.0]\n",
    "negative_ratings"
   ]
  }
 ],
 "metadata": {
  "kernelspec": {
   "display_name": "Python 3 (ipykernel)",
   "language": "python",
   "name": "python3"
  },
  "language_info": {
   "codemirror_mode": {
    "name": "ipython",
    "version": 3
   },
   "file_extension": ".py",
   "mimetype": "text/x-python",
   "name": "python",
   "nbconvert_exporter": "python",
   "pygments_lexer": "ipython3",
   "version": "3.13.1"
  }
 },
 "nbformat": 4,
 "nbformat_minor": 5
}
