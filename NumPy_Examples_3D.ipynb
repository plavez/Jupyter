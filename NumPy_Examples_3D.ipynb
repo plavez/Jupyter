{
 "cells": [
  {
   "cell_type": "code",
   "execution_count": 2,
   "id": "ffa9ed6e-06bc-4e6f-b7f4-340465e553b8",
   "metadata": {},
   "outputs": [],
   "source": [
    "import numpy as np"
   ]
  },
  {
   "cell_type": "markdown",
   "id": "5ec79803-54d4-41fe-9f84-c68d75e9f74b",
   "metadata": {},
   "source": [
    "## 7. Generation of the sample stock data"
   ]
  },
  {
   "cell_type": "code",
   "execution_count": 20,
   "id": "72e3c132-aad3-4974-b6fa-43fb50722559",
   "metadata": {},
   "outputs": [],
   "source": [
    "companies = ['Google', 'Microsoft', 'Apple'] # axis-0\n",
    "days = ['Mon 1 April', 'Tue 2 April'] # axis-1\n",
    "price_types = ['Open', 'Close', 'High', 'Low'] # axis-2"
   ]
  },
  {
   "cell_type": "code",
   "execution_count": 21,
   "id": "0c4ab194-a19d-4988-9f19-6042bd536e57",
   "metadata": {},
   "outputs": [
    {
     "data": {
      "text/plain": [
       "array([[[0.417, 0.72 , 0.   , 0.302],\n",
       "        [0.147, 0.092, 0.186, 0.346]],\n",
       "\n",
       "       [[0.397, 0.539, 0.419, 0.685],\n",
       "        [0.204, 0.878, 0.027, 0.67 ]],\n",
       "\n",
       "       [[0.417, 0.559, 0.14 , 0.198],\n",
       "        [0.801, 0.968, 0.313, 0.692]]])"
      ]
     },
     "execution_count": 21,
     "metadata": {},
     "output_type": "execute_result"
    }
   ],
   "source": [
    "# Shape will be (3,2,4)\n",
    "np.random.seed(1)\n",
    "stock_prices = np.round(np.random.random((len(companies), len(days), len(price_types))),3)\n",
    "stock_prices"
   ]
  },
  {
   "cell_type": "code",
   "execution_count": 22,
   "id": "95103702-0362-43ad-8674-e3071e50c230",
   "metadata": {},
   "outputs": [
    {
     "data": {
      "text/plain": [
       "(3, 2, 4)"
      ]
     },
     "execution_count": 22,
     "metadata": {},
     "output_type": "execute_result"
    }
   ],
   "source": [
    "stock_prices.shape"
   ]
  },
  {
   "cell_type": "code",
   "execution_count": 23,
   "id": "6062ef6a-3b67-403a-b210-9ebe0269ff3e",
   "metadata": {},
   "outputs": [
    {
     "name": "stdout",
     "output_type": "stream",
     "text": [
      "Stock prices for the Google: \n",
      "-----------------\n",
      "Day: Mon 1 April\n",
      "Open Price: 0.417\n",
      "Close Price: 0.72\n",
      "High Price: 0.0\n",
      "Low Price: 0.302\n",
      "\n",
      "Day: Tue 2 April\n",
      "Open Price: 0.147\n",
      "Close Price: 0.092\n",
      "High Price: 0.186\n",
      "Low Price: 0.346\n",
      "\n",
      "\n",
      "Stock prices for the Microsoft: \n",
      "-----------------\n",
      "Day: Mon 1 April\n",
      "Open Price: 0.397\n",
      "Close Price: 0.539\n",
      "High Price: 0.419\n",
      "Low Price: 0.685\n",
      "\n",
      "Day: Tue 2 April\n",
      "Open Price: 0.204\n",
      "Close Price: 0.878\n",
      "High Price: 0.027\n",
      "Low Price: 0.67\n",
      "\n",
      "\n",
      "Stock prices for the Apple: \n",
      "-----------------\n",
      "Day: Mon 1 April\n",
      "Open Price: 0.417\n",
      "Close Price: 0.559\n",
      "High Price: 0.14\n",
      "Low Price: 0.198\n",
      "\n",
      "Day: Tue 2 April\n",
      "Open Price: 0.801\n",
      "Close Price: 0.968\n",
      "High Price: 0.313\n",
      "Low Price: 0.692\n",
      "\n",
      "\n"
     ]
    }
   ],
   "source": [
    "for index_axis_0,company in enumerate(companies):\n",
    "    print(f\"Stock prices for the {company}: \")\n",
    "    print('-----------------')\n",
    "    for index_axis_1, day in enumerate(days):\n",
    "        print(f\"Day: {day}\")\n",
    "        for index_axis_2, price_type in enumerate(price_types):\n",
    "            print(f\"{price_type} Price: {stock_prices[index_axis_0,index_axis_1,index_axis_2]}\")\n",
    "        print('')\n",
    "    print('')"
   ]
  }
 ],
 "metadata": {
  "kernelspec": {
   "display_name": "Python 3 (ipykernel)",
   "language": "python",
   "name": "python3"
  },
  "language_info": {
   "codemirror_mode": {
    "name": "ipython",
    "version": 3
   },
   "file_extension": ".py",
   "mimetype": "text/x-python",
   "name": "python",
   "nbconvert_exporter": "python",
   "pygments_lexer": "ipython3",
   "version": "3.13.1"
  }
 },
 "nbformat": 4,
 "nbformat_minor": 5
}
