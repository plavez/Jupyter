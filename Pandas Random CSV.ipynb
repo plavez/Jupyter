{
 "cells": [
  {
   "cell_type": "code",
   "execution_count": 18,
   "id": "3bbacf78-59d2-4895-bcfa-2532ec950fd1",
   "metadata": {},
   "outputs": [],
   "source": [
    "import pandas as pd\n",
    "import numpy as np"
   ]
  },
  {
   "cell_type": "code",
   "execution_count": 19,
   "id": "9d0a1208-c521-4be7-9140-7a5530cbf54c",
   "metadata": {},
   "outputs": [
    {
     "data": {
      "text/html": [
       "<div>\n",
       "<style scoped>\n",
       "    .dataframe tbody tr th:only-of-type {\n",
       "        vertical-align: middle;\n",
       "    }\n",
       "\n",
       "    .dataframe tbody tr th {\n",
       "        vertical-align: top;\n",
       "    }\n",
       "\n",
       "    .dataframe thead th {\n",
       "        text-align: right;\n",
       "    }\n",
       "</style>\n",
       "<table border=\"1\" class=\"dataframe\">\n",
       "  <thead>\n",
       "    <tr style=\"text-align: right;\">\n",
       "      <th></th>\n",
       "      <th>Data</th>\n",
       "      <th>Products</th>\n",
       "      <th>Price</th>\n",
       "      <th>Quantities</th>\n",
       "    </tr>\n",
       "  </thead>\n",
       "  <tbody>\n",
       "    <tr>\n",
       "      <th>0</th>\n",
       "      <td>2025-01-25</td>\n",
       "      <td>Camera</td>\n",
       "      <td>129.19</td>\n",
       "      <td>4</td>\n",
       "    </tr>\n",
       "    <tr>\n",
       "      <th>1</th>\n",
       "      <td>2025-01-26</td>\n",
       "      <td>Tablet</td>\n",
       "      <td>161.01</td>\n",
       "      <td>13</td>\n",
       "    </tr>\n",
       "    <tr>\n",
       "      <th>2</th>\n",
       "      <td>2025-01-27</td>\n",
       "      <td>Tablet</td>\n",
       "      <td>72.49</td>\n",
       "      <td>2</td>\n",
       "    </tr>\n",
       "    <tr>\n",
       "      <th>3</th>\n",
       "      <td>2025-01-28</td>\n",
       "      <td>Camera</td>\n",
       "      <td>132.66</td>\n",
       "      <td>2</td>\n",
       "    </tr>\n",
       "    <tr>\n",
       "      <th>4</th>\n",
       "      <td>2025-01-29</td>\n",
       "      <td>Camera</td>\n",
       "      <td>82.49</td>\n",
       "      <td>7</td>\n",
       "    </tr>\n",
       "  </tbody>\n",
       "</table>\n",
       "</div>"
      ],
      "text/plain": [
       "        Data Products   Price  Quantities\n",
       "0 2025-01-25   Camera  129.19           4\n",
       "1 2025-01-26   Tablet  161.01          13\n",
       "2 2025-01-27   Tablet   72.49           2\n",
       "3 2025-01-28   Camera  132.66           2\n",
       "4 2025-01-29   Camera   82.49           7"
      ]
     },
     "execution_count": 19,
     "metadata": {},
     "output_type": "execute_result"
    }
   ],
   "source": [
    "np.random.seed(1)\n",
    "n=1000\n",
    "dates=pd.date_range(start='2025-01-25',periods=n,freq='D')\n",
    "products=np.random.choice(['Tablet','Camera','Phone'],n)\n",
    "prices=np.round(np.random.uniform(50.0,200.0,n),2)\n",
    "quatities=np.random.randint(1,15,n)\n",
    "\n",
    "data= {\n",
    "    'Data':dates,\n",
    "    'Products':products,\n",
    "    'Price': prices,\n",
    "    'Quantities':quatities\n",
    "}\n",
    "\n",
    "df=pd.DataFrame(data)\n",
    "df.head()"
   ]
  },
  {
   "cell_type": "code",
   "execution_count": 20,
   "id": "5e5bc8d3-2ed8-4ecf-8e99-41c8901b96a2",
   "metadata": {},
   "outputs": [
    {
     "data": {
      "text/plain": [
       "Data          datetime64[ns]\n",
       "Products              object\n",
       "Price                float64\n",
       "Quantities             int32\n",
       "dtype: object"
      ]
     },
     "execution_count": 20,
     "metadata": {},
     "output_type": "execute_result"
    }
   ],
   "source": [
    "df.dtypes"
   ]
  },
  {
   "cell_type": "code",
   "execution_count": 21,
   "id": "91baac1d-83dc-45e2-82c1-ba087f311ac8",
   "metadata": {},
   "outputs": [],
   "source": [
    "df.to_csv('random_sales.csv',index=False)"
   ]
  }
 ],
 "metadata": {
  "kernelspec": {
   "display_name": "Python 3 (ipykernel)",
   "language": "python",
   "name": "python3"
  },
  "language_info": {
   "codemirror_mode": {
    "name": "ipython",
    "version": 3
   },
   "file_extension": ".py",
   "mimetype": "text/x-python",
   "name": "python",
   "nbconvert_exporter": "python",
   "pygments_lexer": "ipython3",
   "version": "3.13.1"
  }
 },
 "nbformat": 4,
 "nbformat_minor": 5
}
