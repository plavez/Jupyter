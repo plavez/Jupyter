{
 "cells": [
  {
   "cell_type": "code",
   "execution_count": 112,
   "id": "ab35eafb-a85f-4021-b87e-9804623bde15",
   "metadata": {},
   "outputs": [],
   "source": [
    "import pandas as pd"
   ]
  },
  {
   "cell_type": "code",
   "execution_count": 113,
   "id": "9ec31a69-a103-4df3-8e7c-83b2e60afec3",
   "metadata": {},
   "outputs": [
    {
     "data": {
      "text/html": [
       "<div>\n",
       "<style scoped>\n",
       "    .dataframe tbody tr th:only-of-type {\n",
       "        vertical-align: middle;\n",
       "    }\n",
       "\n",
       "    .dataframe tbody tr th {\n",
       "        vertical-align: top;\n",
       "    }\n",
       "\n",
       "    .dataframe thead th {\n",
       "        text-align: right;\n",
       "    }\n",
       "</style>\n",
       "<table border=\"1\" class=\"dataframe\">\n",
       "  <thead>\n",
       "    <tr style=\"text-align: right;\">\n",
       "      <th></th>\n",
       "      <th>User_ID</th>\n",
       "      <th>Username</th>\n",
       "      <th>Age</th>\n",
       "      <th>Joined Date</th>\n",
       "      <th>Total Posts</th>\n",
       "      <th>Reputation</th>\n",
       "    </tr>\n",
       "  </thead>\n",
       "  <tbody>\n",
       "    <tr>\n",
       "      <th>0</th>\n",
       "      <td>1</td>\n",
       "      <td>vlad_g</td>\n",
       "      <td>48</td>\n",
       "      <td>02.11.2020</td>\n",
       "      <td>100</td>\n",
       "      <td>500</td>\n",
       "    </tr>\n",
       "    <tr>\n",
       "      <th>1</th>\n",
       "      <td>2</td>\n",
       "      <td>marina_76</td>\n",
       "      <td>48</td>\n",
       "      <td>22.02.2020</td>\n",
       "      <td>245</td>\n",
       "      <td>789</td>\n",
       "    </tr>\n",
       "    <tr>\n",
       "      <th>2</th>\n",
       "      <td>3</td>\n",
       "      <td>vadim_95</td>\n",
       "      <td>29</td>\n",
       "      <td>12.10.2021</td>\n",
       "      <td>303</td>\n",
       "      <td>656</td>\n",
       "    </tr>\n",
       "    <tr>\n",
       "      <th>3</th>\n",
       "      <td>4</td>\n",
       "      <td>emma_09</td>\n",
       "      <td>15</td>\n",
       "      <td>09.04.2019</td>\n",
       "      <td>789</td>\n",
       "      <td>769</td>\n",
       "    </tr>\n",
       "    <tr>\n",
       "      <th>4</th>\n",
       "      <td>5</td>\n",
       "      <td>vasilii_51</td>\n",
       "      <td>73</td>\n",
       "      <td>17.01.2021</td>\n",
       "      <td>120</td>\n",
       "      <td>590</td>\n",
       "    </tr>\n",
       "  </tbody>\n",
       "</table>\n",
       "</div>"
      ],
      "text/plain": [
       "   User_ID    Username  Age Joined Date  Total Posts  Reputation\n",
       "0        1      vlad_g   48  02.11.2020          100         500\n",
       "1        2   marina_76   48  22.02.2020          245         789\n",
       "2        3    vadim_95   29  12.10.2021          303         656\n",
       "3        4     emma_09   15  09.04.2019          789         769\n",
       "4        5  vasilii_51   73  17.01.2021          120         590"
      ]
     },
     "execution_count": 113,
     "metadata": {},
     "output_type": "execute_result"
    }
   ],
   "source": [
    "forum_users={\n",
    "    'User_ID': [1,2,3,4,5],\n",
    "    'Username': ['vlad_g','marina_76','vadim_95','emma_09','vasilii_51'],\n",
    "    'Age': [48,48,29,15,73],\n",
    "    'Joined Date': ['02.11.2020','22.02.2020','12.10.2021','09.04.2019','17.01.2021'],\n",
    "    'Total Posts': [100,245,303,789,120],\n",
    "    'Reputation': [500,789,656,769,590],\n",
    "}\n",
    "\n",
    "df = pd.DataFrame(forum_users)\n",
    "df"
   ]
  },
  {
   "cell_type": "code",
   "execution_count": 114,
   "id": "e178b68c-9ab8-457b-b570-fa68d2b7ad25",
   "metadata": {},
   "outputs": [
    {
     "data": {
      "text/plain": [
       "(5, 6)"
      ]
     },
     "execution_count": 114,
     "metadata": {},
     "output_type": "execute_result"
    }
   ],
   "source": [
    "df.shape"
   ]
  },
  {
   "cell_type": "code",
   "execution_count": 115,
   "id": "34cf2e51-cf4b-49e3-96e4-2ed83c32104e",
   "metadata": {},
   "outputs": [
    {
     "data": {
      "text/plain": [
       "pandas.core.frame.DataFrame"
      ]
     },
     "execution_count": 115,
     "metadata": {},
     "output_type": "execute_result"
    }
   ],
   "source": [
    "type(df)"
   ]
  },
  {
   "cell_type": "code",
   "execution_count": 116,
   "id": "47c85172-7490-4153-9c45-2717bca6abc7",
   "metadata": {},
   "outputs": [
    {
     "data": {
      "text/plain": [
       "Index(['User_ID', 'Username', 'Age', 'Joined Date', 'Total Posts',\n",
       "       'Reputation'],\n",
       "      dtype='object')"
      ]
     },
     "execution_count": 116,
     "metadata": {},
     "output_type": "execute_result"
    }
   ],
   "source": [
    "df.columns"
   ]
  },
  {
   "cell_type": "code",
   "execution_count": 117,
   "id": "9ddef43c-07dd-44b7-a238-5ac3021959ed",
   "metadata": {},
   "outputs": [
    {
     "data": {
      "text/plain": [
       "pandas.core.indexes.base.Index"
      ]
     },
     "execution_count": 117,
     "metadata": {},
     "output_type": "execute_result"
    }
   ],
   "source": [
    "type(df.columns)"
   ]
  },
  {
   "cell_type": "code",
   "execution_count": 118,
   "id": "1f964007-a198-4792-b442-6ba4ea9219cf",
   "metadata": {},
   "outputs": [
    {
     "data": {
      "text/plain": [
       "['User_ID', 'Username', 'Age', 'Joined Date', 'Total Posts', 'Reputation']"
      ]
     },
     "execution_count": 118,
     "metadata": {},
     "output_type": "execute_result"
    }
   ],
   "source": [
    "df.columns.tolist()"
   ]
  },
  {
   "cell_type": "code",
   "execution_count": 119,
   "id": "4c5f1407-551e-4391-842a-7c90fbe3f13b",
   "metadata": {},
   "outputs": [
    {
     "data": {
      "text/plain": [
       "RangeIndex(start=0, stop=5, step=1)"
      ]
     },
     "execution_count": 119,
     "metadata": {},
     "output_type": "execute_result"
    }
   ],
   "source": [
    "df.index"
   ]
  },
  {
   "cell_type": "code",
   "execution_count": 120,
   "id": "12d5a0e8-f117-4b0b-b4a6-573816f084f9",
   "metadata": {},
   "outputs": [
    {
     "data": {
      "text/plain": [
       "[0, 1, 2, 3, 4]"
      ]
     },
     "execution_count": 120,
     "metadata": {},
     "output_type": "execute_result"
    }
   ],
   "source": [
    "df.index.tolist()"
   ]
  },
  {
   "cell_type": "code",
   "execution_count": 121,
   "id": "f0ef83f9-fc16-432a-9b8c-3128d62d7c42",
   "metadata": {},
   "outputs": [
    {
     "data": {
      "text/plain": [
       "User_ID         int64\n",
       "Username       object\n",
       "Age             int64\n",
       "Joined Date    object\n",
       "Total Posts     int64\n",
       "Reputation      int64\n",
       "dtype: object"
      ]
     },
     "execution_count": 121,
     "metadata": {},
     "output_type": "execute_result"
    }
   ],
   "source": [
    "df.dtypes"
   ]
  },
  {
   "cell_type": "code",
   "execution_count": 122,
   "id": "fc0adf1c-2da2-47e1-a7fe-772db2e5de7f",
   "metadata": {},
   "outputs": [
    {
     "data": {
      "text/plain": [
       "array([[1, 'vlad_g', 48, '02.11.2020', 100, 500],\n",
       "       [2, 'marina_76', 48, '22.02.2020', 245, 789],\n",
       "       [3, 'vadim_95', 29, '12.10.2021', 303, 656],\n",
       "       [4, 'emma_09', 15, '09.04.2019', 789, 769],\n",
       "       [5, 'vasilii_51', 73, '17.01.2021', 120, 590]], dtype=object)"
      ]
     },
     "execution_count": 122,
     "metadata": {},
     "output_type": "execute_result"
    }
   ],
   "source": [
    "df.values"
   ]
  },
  {
   "cell_type": "code",
   "execution_count": 123,
   "id": "b9ae9a25-c01a-4359-a1ed-3eea9c8b0d3c",
   "metadata": {},
   "outputs": [
    {
     "data": {
      "text/plain": [
       "numpy.ndarray"
      ]
     },
     "execution_count": 123,
     "metadata": {},
     "output_type": "execute_result"
    }
   ],
   "source": [
    "type(df.values)"
   ]
  },
  {
   "cell_type": "code",
   "execution_count": 124,
   "id": "49387c28-fd49-4a05-a656-ab68f4668315",
   "metadata": {},
   "outputs": [
    {
     "data": {
      "text/html": [
       "<div>\n",
       "<style scoped>\n",
       "    .dataframe tbody tr th:only-of-type {\n",
       "        vertical-align: middle;\n",
       "    }\n",
       "\n",
       "    .dataframe tbody tr th {\n",
       "        vertical-align: top;\n",
       "    }\n",
       "\n",
       "    .dataframe thead th {\n",
       "        text-align: right;\n",
       "    }\n",
       "</style>\n",
       "<table border=\"1\" class=\"dataframe\">\n",
       "  <thead>\n",
       "    <tr style=\"text-align: right;\">\n",
       "      <th></th>\n",
       "      <th>User_ID</th>\n",
       "      <th>Username</th>\n",
       "      <th>Age</th>\n",
       "      <th>Joined Date</th>\n",
       "      <th>Total Posts</th>\n",
       "      <th>Reputation</th>\n",
       "    </tr>\n",
       "  </thead>\n",
       "  <tbody>\n",
       "    <tr>\n",
       "      <th>0</th>\n",
       "      <td>1</td>\n",
       "      <td>vlad_g</td>\n",
       "      <td>48</td>\n",
       "      <td>02.11.2020</td>\n",
       "      <td>100</td>\n",
       "      <td>500</td>\n",
       "    </tr>\n",
       "    <tr>\n",
       "      <th>1</th>\n",
       "      <td>2</td>\n",
       "      <td>marina_76</td>\n",
       "      <td>48</td>\n",
       "      <td>22.02.2020</td>\n",
       "      <td>245</td>\n",
       "      <td>789</td>\n",
       "    </tr>\n",
       "  </tbody>\n",
       "</table>\n",
       "</div>"
      ],
      "text/plain": [
       "   User_ID   Username  Age Joined Date  Total Posts  Reputation\n",
       "0        1     vlad_g   48  02.11.2020          100         500\n",
       "1        2  marina_76   48  22.02.2020          245         789"
      ]
     },
     "execution_count": 124,
     "metadata": {},
     "output_type": "execute_result"
    }
   ],
   "source": [
    "df.head(2)"
   ]
  },
  {
   "cell_type": "code",
   "execution_count": 125,
   "id": "2cc0c2e0-c7d4-4a8d-9ea5-ac6d4485e814",
   "metadata": {},
   "outputs": [
    {
     "data": {
      "text/html": [
       "<div>\n",
       "<style scoped>\n",
       "    .dataframe tbody tr th:only-of-type {\n",
       "        vertical-align: middle;\n",
       "    }\n",
       "\n",
       "    .dataframe tbody tr th {\n",
       "        vertical-align: top;\n",
       "    }\n",
       "\n",
       "    .dataframe thead th {\n",
       "        text-align: right;\n",
       "    }\n",
       "</style>\n",
       "<table border=\"1\" class=\"dataframe\">\n",
       "  <thead>\n",
       "    <tr style=\"text-align: right;\">\n",
       "      <th></th>\n",
       "      <th>User_ID</th>\n",
       "      <th>Age</th>\n",
       "      <th>Total Posts</th>\n",
       "      <th>Reputation</th>\n",
       "    </tr>\n",
       "  </thead>\n",
       "  <tbody>\n",
       "    <tr>\n",
       "      <th>count</th>\n",
       "      <td>5.0</td>\n",
       "      <td>5.0</td>\n",
       "      <td>5.0</td>\n",
       "      <td>5.0</td>\n",
       "    </tr>\n",
       "    <tr>\n",
       "      <th>mean</th>\n",
       "      <td>3.0</td>\n",
       "      <td>43.0</td>\n",
       "      <td>311.0</td>\n",
       "      <td>661.0</td>\n",
       "    </tr>\n",
       "    <tr>\n",
       "      <th>std</th>\n",
       "      <td>2.0</td>\n",
       "      <td>22.0</td>\n",
       "      <td>280.0</td>\n",
       "      <td>121.0</td>\n",
       "    </tr>\n",
       "    <tr>\n",
       "      <th>min</th>\n",
       "      <td>1.0</td>\n",
       "      <td>15.0</td>\n",
       "      <td>100.0</td>\n",
       "      <td>500.0</td>\n",
       "    </tr>\n",
       "    <tr>\n",
       "      <th>25%</th>\n",
       "      <td>2.0</td>\n",
       "      <td>29.0</td>\n",
       "      <td>120.0</td>\n",
       "      <td>590.0</td>\n",
       "    </tr>\n",
       "    <tr>\n",
       "      <th>50%</th>\n",
       "      <td>3.0</td>\n",
       "      <td>48.0</td>\n",
       "      <td>245.0</td>\n",
       "      <td>656.0</td>\n",
       "    </tr>\n",
       "    <tr>\n",
       "      <th>75%</th>\n",
       "      <td>4.0</td>\n",
       "      <td>48.0</td>\n",
       "      <td>303.0</td>\n",
       "      <td>769.0</td>\n",
       "    </tr>\n",
       "    <tr>\n",
       "      <th>max</th>\n",
       "      <td>5.0</td>\n",
       "      <td>73.0</td>\n",
       "      <td>789.0</td>\n",
       "      <td>789.0</td>\n",
       "    </tr>\n",
       "  </tbody>\n",
       "</table>\n",
       "</div>"
      ],
      "text/plain": [
       "       User_ID   Age  Total Posts  Reputation\n",
       "count      5.0   5.0          5.0         5.0\n",
       "mean       3.0  43.0        311.0       661.0\n",
       "std        2.0  22.0        280.0       121.0\n",
       "min        1.0  15.0        100.0       500.0\n",
       "25%        2.0  29.0        120.0       590.0\n",
       "50%        3.0  48.0        245.0       656.0\n",
       "75%        4.0  48.0        303.0       769.0\n",
       "max        5.0  73.0        789.0       789.0"
      ]
     },
     "execution_count": 125,
     "metadata": {},
     "output_type": "execute_result"
    }
   ],
   "source": [
    "df.describe().round()"
   ]
  },
  {
   "cell_type": "code",
   "execution_count": null,
   "id": "3294b51c-70e1-48ca-99a8-70875e232bf5",
   "metadata": {},
   "outputs": [],
   "source": []
  }
 ],
 "metadata": {
  "kernelspec": {
   "display_name": "Python 3 (ipykernel)",
   "language": "python",
   "name": "python3"
  },
  "language_info": {
   "codemirror_mode": {
    "name": "ipython",
    "version": 3
   },
   "file_extension": ".py",
   "mimetype": "text/x-python",
   "name": "python",
   "nbconvert_exporter": "python",
   "pygments_lexer": "ipython3",
   "version": "3.13.1"
  }
 },
 "nbformat": 4,
 "nbformat_minor": 5
}
