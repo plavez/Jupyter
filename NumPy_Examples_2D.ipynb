{
 "cells": [
  {
   "cell_type": "code",
   "execution_count": 1,
   "id": "ffa9ed6e-06bc-4e6f-b7f4-340465e553b8",
   "metadata": {},
   "outputs": [],
   "source": [
    "import numpy as np"
   ]
  },
  {
   "cell_type": "code",
   "execution_count": 1,
   "id": "170d4863-e087-4167-82d3-2192f41b4e32",
   "metadata": {},
   "outputs": [],
   "source": [
    "import numpy as np"
   ]
  },
  {
   "cell_type": "markdown",
   "id": "4db572ee-eccb-4e01-892a-a21bc5a1ead7",
   "metadata": {},
   "source": [
    "## 5. Calculate Total and Average quantities sold"
   ]
  },
  {
   "cell_type": "code",
   "execution_count": 28,
   "id": "c81cadde-0127-4663-9d34-064be4b415c6",
   "metadata": {},
   "outputs": [
    {
     "name": "stdout",
     "output_type": "stream",
     "text": [
      "Each column is is specific product - Each row is specific order :  \n",
      "[[ 5  3  2  7]\n",
      " [10  6  3  9]]\n"
     ]
    }
   ],
   "source": [
    "# Each column is is specific product (we have 4 products )\n",
    "# Each row is specific order  (we have 2 orders)\n",
    "order_quantities = np.array([[5,3,2,7],[10,6,3,9]])\n",
    "print(f\"Each column is is specific product - Each row is specific order :  \\n{order_quantities}\")"
   ]
  },
  {
   "cell_type": "code",
   "execution_count": 29,
   "id": "5e0b6b6d-0b8b-43fb-9147-7db12f78fc3a",
   "metadata": {},
   "outputs": [
    {
     "name": "stdout",
     "output_type": "stream",
     "text": [
      "Quantities of the sales per product: [15  9  5 16]\n"
     ]
    }
   ],
   "source": [
    "# Quantities of the sales per product\n",
    "total_quantities_sold_per_product = np.sum(order_quantities,axis = 0)\n",
    "print(f\"Quantities of the sales per product: {total_quantities_sold_per_product}\")"
   ]
  },
  {
   "cell_type": "code",
   "execution_count": 30,
   "id": "a118941b-9c5d-4b6e-9327-aa509e28c45c",
   "metadata": {},
   "outputs": [
    {
     "name": "stdout",
     "output_type": "stream",
     "text": [
      "Quantities of the sales per order: [17 28]\n"
     ]
    }
   ],
   "source": [
    "# Quantities of the sales per order\n",
    "total_quantities_sold_per_order = np.sum(order_quantities,axis = 1)\n",
    "print(f\"Quantities of the sales per order: {total_quantities_sold_per_order}\")"
   ]
  },
  {
   "cell_type": "code",
   "execution_count": 31,
   "id": "773c6a4f-d77a-412c-a21e-396033e030a8",
   "metadata": {},
   "outputs": [
    {
     "name": "stdout",
     "output_type": "stream",
     "text": [
      "Average guantities per product across all orders: [7.5 4.5 2.5 8. ]\n"
     ]
    }
   ],
   "source": [
    "# Average guantities per product across all orders\n",
    "average_quantities_sold_per_product = np.mean(order_quantities,axis = 0)\n",
    "print(f\"Average guantities per product across all orders: {average_quantities_sold_per_product}\")"
   ]
  },
  {
   "cell_type": "markdown",
   "id": "6bfbebbf-8911-4d47-9f27-d17503214f18",
   "metadata": {},
   "source": [
    "## 6. Calculate Average product Rating and Maximum rating per Category"
   ]
  },
  {
   "cell_type": "code",
   "execution_count": 38,
   "id": "51d4ab78-9e4b-412d-8048-cb120f21b800",
   "metadata": {},
   "outputs": [
    {
     "data": {
      "text/plain": [
       "array([[4.5, 3.2, 2.5, 5. ],\n",
       "       [4.3, 3.8, 1. , 4.8],\n",
       "       [2. , 3.6, 4.7, 0.5]])"
      ]
     },
     "execution_count": 38,
     "metadata": {},
     "output_type": "execute_result"
    }
   ],
   "source": [
    "#Each row is one pproduct\n",
    "#Each product is rated in 4 categories\n",
    "product_ratings = np.array([\n",
    "    [4.5,3.2,2.5,5.0],\n",
    "    [4.3,3.8,1.0,4.8],\n",
    "    [2.0,3.6,4.7,0.5]\n",
    "])\n",
    "product_ratings"
   ]
  },
  {
   "cell_type": "code",
   "execution_count": 41,
   "id": "5f944f3f-45c8-49ce-80e3-f751e2806683",
   "metadata": {},
   "outputs": [
    {
     "name": "stdout",
     "output_type": "stream",
     "text": [
      "Average rating for each category [3.6        3.53333333 2.73333333 3.43333333]\n"
     ]
    }
   ],
   "source": [
    "average_rating_per_category = np.mean(product_ratings,axis=0)\n",
    "print(f\"Average rating for each category {average_rating_per_category}\")"
   ]
  },
  {
   "cell_type": "code",
   "execution_count": 41,
   "id": "b76c1a2d-69dc-4e6a-b496-65d03678504d",
   "metadata": {},
   "outputs": [
    {
     "name": "stdout",
     "output_type": "stream",
     "text": [
      "Average rating for each category [3.6        3.53333333 2.73333333 3.43333333]\n"
     ]
    }
   ],
   "source": [
    "average_rating_per_category = np.mean(product_ratings,axis=0)\n",
    "print(f\"Average rating for each category {average_rating_per_category}\")"
   ]
  },
  {
   "cell_type": "code",
   "execution_count": 44,
   "id": "02c65b19-638e-4fe4-b863-b7ef6f408acb",
   "metadata": {},
   "outputs": [
    {
     "name": "stdout",
     "output_type": "stream",
     "text": [
      "Maximum rating for each product [4.5 3.8 4.7 5. ]\n"
     ]
    }
   ],
   "source": [
    "maximum_rating_per_category = np.max(product_ratings,axis=0)\n",
    "print(f\"Maximum rating for each product {maximum_rating_per_category}\")"
   ]
  },
  {
   "cell_type": "code",
   "execution_count": null,
   "id": "8bdd8d61-bc11-4f5f-9d56-b1a2ac307aaf",
   "metadata": {},
   "outputs": [],
   "source": []
  }
 ],
 "metadata": {
  "kernelspec": {
   "display_name": "Python 3 (ipykernel)",
   "language": "python",
   "name": "python3"
  },
  "language_info": {
   "codemirror_mode": {
    "name": "ipython",
    "version": 3
   },
   "file_extension": ".py",
   "mimetype": "text/x-python",
   "name": "python",
   "nbconvert_exporter": "python",
   "pygments_lexer": "ipython3",
   "version": "3.13.1"
  }
 },
 "nbformat": 4,
 "nbformat_minor": 5
}
